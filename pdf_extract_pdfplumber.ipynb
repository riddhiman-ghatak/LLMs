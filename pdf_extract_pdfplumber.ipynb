{
  "nbformat": 4,
  "nbformat_minor": 0,
  "metadata": {
    "colab": {
      "provenance": []
    },
    "kernelspec": {
      "name": "python3",
      "display_name": "Python 3"
    },
    "language_info": {
      "name": "python"
    }
  },
  "cells": [
    {
      "cell_type": "code",
      "execution_count": null,
      "metadata": {
        "colab": {
          "base_uri": "https://localhost:8080/"
        },
        "id": "sGGuAa0SwScT",
        "outputId": "34af147d-de6f-47c3-fad4-8a62478db2c9"
      },
      "outputs": [
        {
          "output_type": "stream",
          "name": "stdout",
          "text": [
            "Collecting pdfplumber\n",
            "  Downloading pdfplumber-0.10.3-py3-none-any.whl (48 kB)\n",
            "\u001b[2K     \u001b[90m━━━━━━━━━━━━━━━━━━━━━━━━━━━━━━━━━━━━━━━━\u001b[0m \u001b[32m49.0/49.0 kB\u001b[0m \u001b[31m1.1 MB/s\u001b[0m eta \u001b[36m0:00:00\u001b[0m\n",
            "\u001b[?25hCollecting pdfminer.six==20221105 (from pdfplumber)\n",
            "  Downloading pdfminer.six-20221105-py3-none-any.whl (5.6 MB)\n",
            "\u001b[2K     \u001b[90m━━━━━━━━━━━━━━━━━━━━━━━━━━━━━━━━━━━━━━━━\u001b[0m \u001b[32m5.6/5.6 MB\u001b[0m \u001b[31m28.0 MB/s\u001b[0m eta \u001b[36m0:00:00\u001b[0m\n",
            "\u001b[?25hRequirement already satisfied: Pillow>=9.1 in /usr/local/lib/python3.10/dist-packages (from pdfplumber) (9.4.0)\n",
            "Collecting pypdfium2>=4.18.0 (from pdfplumber)\n",
            "  Downloading pypdfium2-4.25.0-py3-none-manylinux_2_17_x86_64.whl (3.0 MB)\n",
            "\u001b[2K     \u001b[90m━━━━━━━━━━━━━━━━━━━━━━━━━━━━━━━━━━━━━━━━\u001b[0m \u001b[32m3.0/3.0 MB\u001b[0m \u001b[31m41.2 MB/s\u001b[0m eta \u001b[36m0:00:00\u001b[0m\n",
            "\u001b[?25hRequirement already satisfied: charset-normalizer>=2.0.0 in /usr/local/lib/python3.10/dist-packages (from pdfminer.six==20221105->pdfplumber) (3.3.2)\n",
            "Requirement already satisfied: cryptography>=36.0.0 in /usr/local/lib/python3.10/dist-packages (from pdfminer.six==20221105->pdfplumber) (41.0.7)\n",
            "Requirement already satisfied: cffi>=1.12 in /usr/local/lib/python3.10/dist-packages (from cryptography>=36.0.0->pdfminer.six==20221105->pdfplumber) (1.16.0)\n",
            "Requirement already satisfied: pycparser in /usr/local/lib/python3.10/dist-packages (from cffi>=1.12->cryptography>=36.0.0->pdfminer.six==20221105->pdfplumber) (2.21)\n",
            "Installing collected packages: pypdfium2, pdfminer.six, pdfplumber\n",
            "Successfully installed pdfminer.six-20221105 pdfplumber-0.10.3 pypdfium2-4.25.0\n"
          ]
        }
      ],
      "source": [
        "pip install pdfplumber"
      ]
    },
    {
      "cell_type": "code",
      "source": [
        "import pdfplumber\n",
        "\n",
        "with pdfplumber.open('/content/sem_6_fee_payment.pdf') as pdf:\n",
        "    # iterate over each page\n",
        "    for page in pdf.pages:\n",
        "        # extract text\n",
        "        text = page.extract_text()\n",
        "        print(text)"
      ],
      "metadata": {
        "colab": {
          "base_uri": "https://localhost:8080/"
        },
        "id": "TNx7MUPBwjEb",
        "outputId": "c5cc0089-7632-4438-fbc0-a4a95ca11bec"
      },
      "execution_count": null,
      "outputs": [
        {
          "output_type": "stream",
          "name": "stdout",
          "text": [
            "Semester: Jan-May 2024\n",
            "Dept./Cent./Sch.: Dept. of Chemistry\n",
            "Programme: BTech\n",
            "Discipline: Chemical Science and Technology\n",
            "Semester Registration Fee Payment Receipt\n",
            "Roll No 210122048\n",
            "Name Riddhiman Ghatak\n",
            "Details Amount (Rs.)\n",
            "Tuition Fees 100000.00\n",
            "Examination Fee 500.00\n",
            "Registration/Enrollment Fee 1000.00\n",
            "Gymkhana Fee 1000.00\n",
            "Medical Fee 100.00\n",
            "Hostel Fund 600.00\n",
            "Hostel Rent 1000.00\n",
            "Electricity and Water Charges 2500.00\n",
            "Mess Advance 18000.00\n",
            "Students Brotherhood Fund 50.00\n",
            "Academic Facilities Fee 2500.00\n",
            "Hostel Maintenance Charge 3000.00\n",
            "Students Travel Assistance Fund 50.00\n",
            "Adjustment Amount 0.00\n",
            "Total Amount 130300.00\n",
            "Amount Transaction Details\n",
            "IITG Transaction ID Fee Type Amount (Rs.) Payment Status Payment Date & Time\n",
            "Registration\n",
            "220138202 130300 Success 2023-12-19 19:56:17\n",
            "Enrollment Fee\n",
            "NB: System generated receipt. Does not require signature.\n"
          ]
        }
      ]
    },
    {
      "cell_type": "code",
      "source": [
        "import pdfplumber\n",
        "with pdfplumber.open('/content/sem_6_fee_payment.pdf') as pdf:\n",
        "    # iterate over each page\n",
        "    for page in pdf.pages:\n",
        "        print(page.extract_tables())"
      ],
      "metadata": {
        "colab": {
          "base_uri": "https://localhost:8080/"
        },
        "id": "D3siTuh0w7De",
        "outputId": "efd94224-ac7e-4de7-a753-1f680a7a48c1"
      },
      "execution_count": null,
      "outputs": [
        {
          "output_type": "stream",
          "name": "stdout",
          "text": [
            "[[['Roll No', '210122048'], ['Name', 'Riddhiman Ghatak']], [['Details', 'Amount (Rs.)'], ['Tuition Fees', '100000.00'], ['Examination Fee', '500.00'], ['Registration/Enrollment Fee', '1000.00'], ['Gymkhana Fee', '1000.00'], ['Medical Fee', '100.00'], ['Hostel Fund', '600.00'], ['Hostel Rent', '1000.00'], ['Electricity and Water Charges', '2500.00'], ['Mess Advance', '18000.00'], ['Students Brotherhood Fund', '50.00'], ['Academic Facilities Fee', '2500.00'], ['Hostel Maintenance Charge', '3000.00'], ['Students Travel Assistance Fund', '50.00'], ['Adjustment Amount', '0.00'], ['Total Amount', '130300.00']], [['IITG Transaction ID', 'Fee Type', 'Amount (Rs.)', 'Payment Status', 'Payment Date & Time'], ['220138202', 'Registration\\nEnrollment Fee', '130300', 'Success', '2023-12-19 19:56:17']]]\n"
          ]
        }
      ]
    },
    {
      "cell_type": "code",
      "source": [
        "[[['Roll No', '210122048'],\n",
        " ['Name', 'Riddhiman Ghatak']],\n",
        " [['Details', 'Amount (Rs.)'],\n",
        "  ['Tuition Fees', '100000.00'],\n",
        "  ['Examination Fee', '500.00'],\n",
        "   ['Registration/Enrollment Fee', '1000.00'],\n",
        "    ['Gymkhana Fee', '1000.00'],\n",
        "     ['Medical Fee', '100.00'],\n",
        "   ['Hostel Fund', '600.00'],\n",
        "    ['Hostel Rent', '1000.00'],\n",
        "   ['Electricity and Water Charges', '2500.00'],\n",
        "   ['Mess Advance', '18000.00'],\n",
        "   ['Students Brotherhood Fund', '50.00'],\n",
        "    ['Academic Facilities Fee', '2500.00'],\n",
        "   ['Hostel Maintenance Charge', '3000.00'],\n",
        "   ['Students Travel Assistance Fund', '50.00'],\n",
        "   ['Adjustment Amount', '0.00'],\n",
        "    ['Total Amount', '130300.00']],\n",
        "     [['IITG Transaction ID', 'Fee Type', 'Amount (Rs.)', 'Payment Status', 'Payment Date & Time'], ['220138202', 'Registration\\nEnrollment Fee', '130300', 'Success', '2023-12-19 19:56:17']]]"
      ],
      "metadata": {
        "id": "9KQTQ_YdxXAR"
      },
      "execution_count": null,
      "outputs": []
    }
  ]
}